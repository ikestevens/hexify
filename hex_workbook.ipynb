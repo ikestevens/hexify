{
 "cells": [
  {
   "cell_type": "code",
   "execution_count": 15,
   "metadata": {},
   "outputs": [],
   "source": [
    "import numpy as np\n",
    "import math\n",
    "from PIL import Image, ImageDraw\n",
    "import cv2\n",
    "import imageio\n",
    "import glob\n",
    "import os"
   ]
  },
  {
   "cell_type": "code",
   "execution_count": 16,
   "metadata": {},
   "outputs": [],
   "source": [
    "def create_hexagon(hex_length, center_x, center_y):\n",
    "    point_a = (center_x + hex_length, center_y)\n",
    "    point_b = (center_x + hex_length/2, center_y + math.sqrt(3)*hex_length/2)\n",
    "    point_c = (center_x - hex_length/2, center_y + math.sqrt(3)*hex_length/2)\n",
    "    point_d = (center_x - hex_length, center_y)\n",
    "    point_e = (center_x - hex_length/2, center_y - math.sqrt(3)*hex_length/2)\n",
    "    point_f = (center_x + hex_length/2, center_y - math.sqrt(3)*hex_length/2)\n",
    "    return [point_a, point_b, point_c, point_d, point_e, point_f]"
   ]
  },
  {
   "cell_type": "code",
   "execution_count": 17,
   "metadata": {},
   "outputs": [],
   "source": [
    "def get_image_color(img, X, Y):\n",
    "    if X >= img.shape[0] and Y >= img.shape[1]:\n",
    "        return (img[img.shape[0]-1][img.shape[1]-1][0], img[img.shape[0]-1][img.shape[1]-1][1], img[img.shape[0]-1][img.shape[1]-1][2])\n",
    "    elif X >= img.shape[0]:\n",
    "        return (img[img.shape[0]-1][Y][0], img[img.shape[0]-1][Y][1], img[img.shape[0]-1][Y][2])\n",
    "    elif Y >= img.shape[1]:\n",
    "        return (img[X][img.shape[1]-1][0], img[X][img.shape[1]-1][1], img[X][img.shape[1]-1][2])\n",
    "    else:\n",
    "        return (img[X][Y][0], img[X][Y][1], img[X][Y][2])"
   ]
  },
  {
   "cell_type": "code",
   "execution_count": 18,
   "metadata": {},
   "outputs": [],
   "source": [
    "def get_b_w_color(img, X, Y):\n",
    "    if X > 1000:\n",
    "        X = 1000\n",
    "    if Y > 1000:\n",
    "        Y = 1000\n",
    "    return img[X-1][Y-1]"
   ]
  },
  {
   "cell_type": "code",
   "execution_count": 105,
   "metadata": {},
   "outputs": [],
   "source": [
    "def hexify(pil_image, IMAGE_X, IMAGE_Y, SIZE):\n",
    "    MOVE_X, MOVE_Y = 0, 0\n",
    "\n",
    "    image = np.array(pil_image)\n",
    "    image = np.rot90(image, 3)\n",
    "    image = cv2.flip(image, 2)\n",
    "    count = 0\n",
    "    width, height = IMAGE_X, IMAGE_Y\n",
    "    img = Image.new(\"RGB\", (width, height), \"white\")\n",
    "    odd = True\n",
    "    while True:\n",
    "        hexagon = create_hexagon(SIZE, MOVE_X, MOVE_Y)\n",
    "        color = get_image_color(image, int(MOVE_X), int(MOVE_Y))\n",
    "        ImageDraw.Draw(img).polygon(hexagon, fill=color)\n",
    "        MOVE_Y += math.sqrt((SIZE ** 2) - ((SIZE / 2) ** 2)) * 2\n",
    "        if MOVE_Y >= IMAGE_Y + SIZE:\n",
    "            if odd:\n",
    "                MOVE_Y = math.sqrt((SIZE ** 2) - ((SIZE / 2) ** 2))\n",
    "                MOVE_X += SIZE + (SIZE / 2)\n",
    "                odd = False\n",
    "            else:\n",
    "                MOVE_Y = 0\n",
    "                MOVE_X += SIZE + (SIZE / 2)\n",
    "                odd = True\n",
    "        if MOVE_X > IMAGE_X + SIZE:\n",
    "            break\n",
    "    return img"
   ]
  },
  {
   "cell_type": "code",
   "execution_count": 205,
   "metadata": {},
   "outputs": [],
   "source": [
    "def hex_all_images(loop=True):\n",
    "\n",
    "    for pic in glob.glob(\"pics_to_hex/*\"):\n",
    "\n",
    "        #grab the pic name and stuff\n",
    "        pic_name = pic.replace(\"pics_to_hex/\", \"\")\n",
    "        pic_name = pic_name.split(\".\")[0]\n",
    "        image_gif_path = r'hex_gifs/' + pic_name + '.gif'\n",
    "        image_mp4_path = r'hex_gifs/' + pic_name + '.mp4'\n",
    "        if not os.path.exists(image_gif_path) or not os.path.exists(image_mp4_path): # check if the gif already created, if so, skip\n",
    "            print(\"Hexifying \" + pic_name + \"...\")\n",
    "            image = Image.open(pic)\n",
    "            IMAGE_X, IMAGE_Y = image.size\n",
    "            print(\"Original pic: {} by {} pixels. \".format(image.size[0], image.size[1]))\n",
    "\n",
    "            #resize if it's too big\n",
    "            while IMAGE_X > 700 or IMAGE_Y > 700:\n",
    "                IMAGE_X = IMAGE_X/1.5\n",
    "                IMAGE_Y = IMAGE_Y/1.5\n",
    "                x2, y2 = math.floor(IMAGE_X), math.floor(IMAGE_Y)\n",
    "                image = image.resize((x2,y2),Image.ANTIALIAS)\n",
    "                IMAGE_X, IMAGE_Y = image.size\n",
    "            pixels_x = image.size[0]\n",
    "            pixels_y = image.size[1]\n",
    "            print(\"Working size: {} by {} pixels. \".format(image.size[0], image.size[1]))\n",
    "\n",
    "            #create hex images and append to gif list\n",
    "            gif = []\n",
    "            SIZE = 50\n",
    "            pixels = SIZE - 1\n",
    "            for i in range(pixels): # going down\n",
    "                hex_image = hexify(image, IMAGE_X, IMAGE_Y, SIZE)\n",
    "                gif.append(hex_image)\n",
    "                SIZE = SIZE - 1\n",
    "\n",
    "            for i in range(10): # the actual image\n",
    "                gif.append(image)\n",
    "\n",
    "            if loop:\n",
    "                print(\"halfway\")\n",
    "                for i in range(pixels): # going up\n",
    "                    hex_image = hexify(image, IMAGE_X, IMAGE_Y, SIZE)\n",
    "                    gif.append(hex_image)\n",
    "                    SIZE = SIZE + 1\n",
    "\n",
    "            #save the gif\n",
    "            print(\"making the gif...\")\n",
    "            gif[0].save('hex_gifs/' + pic_name + '.gif', save_all=True, duration=100, optimize=False, append_images=gif[1:], loop=0)\n",
    "\n",
    "            #also save it as a video\n",
    "            print(\"making the video...\")\n",
    "            images = []#list of cv2 image obj\n",
    "            for image in gif:\n",
    "                #convert to cv2 image bc that can save as video\n",
    "                final_image = np.array(image)\n",
    "                final_image = cv2.cvtColor(final_image, cv2.COLOR_BGR2RGB)\n",
    "                images.append(final_image)\n",
    "\n",
    "            video = cv2.VideoWriter(image_mp4_path, cv2.VideoWriter_fourcc(*'mp4v'), 12, (pixels_x,pixels_y))\n",
    "            for image in images:\n",
    "                video.write(image)\n",
    "            print(\"done with \" + pic_name)\n",
    "\n",
    "        else:\n",
    "            continue"
   ]
  },
  {
   "cell_type": "code",
   "execution_count": 206,
   "metadata": {},
   "outputs": [
    {
     "name": "stdout",
     "output_type": "stream",
     "text": [
      "Hexifying sss36...\n",
      "(600, 869)\n",
      "(300, 434)\n",
      "halfway\n",
      "making the gif...\n",
      "done with sss36\n"
     ]
    }
   ],
   "source": [
    "hex_all_images()"
   ]
  },
  {
   "cell_type": "code",
   "execution_count": null,
   "metadata": {},
   "outputs": [],
   "source": []
  }
 ],
 "metadata": {
  "kernelspec": {
   "display_name": "Python 3",
   "language": "python",
   "name": "python3"
  },
  "language_info": {
   "codemirror_mode": {
    "name": "ipython",
    "version": 3
   },
   "file_extension": ".py",
   "mimetype": "text/x-python",
   "name": "python",
   "nbconvert_exporter": "python",
   "pygments_lexer": "ipython3",
   "version": "3.7.4"
  }
 },
 "nbformat": 4,
 "nbformat_minor": 2
}
